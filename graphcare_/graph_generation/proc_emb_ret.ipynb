{
 "cells": [
  {
   "cell_type": "code",
   "execution_count": 1,
   "metadata": {},
   "outputs": [],
   "source": [
    "import csv\n",
    "\n",
    "condition_mapping_file = \"../../resources/CCSCM.csv\"\n",
    "procedure_mapping_file = \"../../resources/CCSPROC.csv\"\n",
    "drug_file = \"../../resources/ATC.csv\"\n",
    "\n",
    "condition_dict = {}\n",
    "with open(condition_mapping_file, newline='') as csvfile:\n",
    "    reader = csv.DictReader(csvfile)\n",
    "    for row in reader:\n",
    "        condition_dict[row['code']] = row['name'].lower()\n",
    "\n",
    "procedure_dict = {}\n",
    "with open(procedure_mapping_file, newline='') as csvfile:\n",
    "    reader = csv.DictReader(csvfile)\n",
    "    for row in reader:\n",
    "        procedure_dict[row['code']] = row['name'].lower()\n",
    "\n",
    "drug_dict = {}\n",
    "with open(drug_file, newline='') as csvfile:\n",
    "    reader = csv.DictReader(csvfile)\n",
    "    for row in reader:\n",
    "        if row['level'] == '5.0':\n",
    "            drug_dict[row['code']] = row['name'].lower()\n"
   ]
  },
  {
   "cell_type": "code",
   "execution_count": 2,
   "metadata": {},
   "outputs": [],
   "source": [
    "from tqdm import tqdm\n",
    "import json\n",
    "\n",
    "proc_ent = set()\n",
    "proc_rel = set()\n",
    "\n",
    "file_dir = \"../../graphs/procedure/CCSPROC\"\n",
    "\n",
    "for key in procedure_dict.keys():\n",
    "    file = f\"{file_dir}/{key}.txt\"\n",
    "    with open(file=file, mode='r') as f:\n",
    "        lines = f.readlines()\n",
    "    \n",
    "    for line in lines:\n",
    "        parsed = line.split('\\t')\n",
    "        if len(parsed) == 3:\n",
    "            h, r, t = line.split('\\t')\n",
    "            t = t[:-1]\n",
    "            proc_ent.add(h)\n",
    "            proc_ent.add(t)\n",
    "            proc_rel.add(r)\n",
    "\n",
    "\n",
    "proc_id2ent = {index: value for index, value in enumerate(proc_ent)}\n",
    "proc_ent2id = {value: index for index, value in enumerate(proc_ent)}\n",
    "proc_id2rel = {index: value for index, value in enumerate(proc_rel)}\n",
    "proc_rel2id = {value: index for index, value in enumerate(proc_rel)}\n",
    "\n",
    "out_file_id2ent = f\"{file_dir}/id2ent.json\"\n",
    "out_file_ent2id = f\"{file_dir}/ent2id.json\"\n",
    "out_file_id2rel = f\"{file_dir}/id2rel.json\"\n",
    "out_file_rel2id = f\"{file_dir}/rel2id.json\"\n",
    "\n",
    "with open(out_file_id2ent, 'w') as file:\n",
    "    json.dump(proc_id2ent, file, indent=6)\n",
    "with open(out_file_ent2id, 'w') as file:\n",
    "    json.dump(proc_ent2id, file, indent=6)\n",
    "with open(out_file_id2rel, 'w') as file:\n",
    "    json.dump(proc_id2rel, file, indent=6)\n",
    "with open(out_file_rel2id, 'w') as file:\n",
    "    json.dump(proc_rel2id, file, indent=6)\n",
    "    "
   ]
  },
  {
   "cell_type": "code",
   "execution_count": 3,
   "metadata": {},
   "outputs": [],
   "source": [
    "import json\n",
    "\n",
    "file_dir = \"../../graphs/procedure/CCSPROC\"\n",
    "\n",
    "file_id2ent = f\"{file_dir}/id2ent.json\"\n",
    "file_ent2id = f\"{file_dir}/ent2id.json\"\n",
    "file_id2rel = f\"{file_dir}/id2rel.json\"\n",
    "file_rel2id = f\"{file_dir}/rel2id.json\"\n",
    "\n",
    "with open(file_id2ent, 'r') as file:\n",
    "    proc_id2ent = json.load(file)\n",
    "with open(file_ent2id, 'r') as file:\n",
    "    proc_ent2id = json.load(file)\n",
    "with open(file_id2rel, 'r') as file:\n",
    "    proc_id2rel = json.load(file)\n",
    "with open(file_rel2id, 'r') as file:\n",
    "    proc_rel2id = json.load(file)"
   ]
  },
  {
   "cell_type": "code",
   "execution_count": 4,
   "metadata": {},
   "outputs": [
    {
     "name": "stderr",
     "output_type": "stream",
     "text": [
      "  4%|▎         | 456/12747 [00:58<24:15,  8.45it/s]  "
     ]
    },
    {
     "name": "stdout",
     "output_type": "stream",
     "text": [
      "尝试 1/5: API 频率限制 (429)\n",
      "等待 10 秒后重试...\n",
      "尝试 2/5: API 频率限制 (429)\n",
      "等待 20 秒后重试...\n"
     ]
    },
    {
     "name": "stderr",
     "output_type": "stream",
     "text": [
      "100%|██████████| 12747/12747 [29:35<00:00,  7.18it/s]  \n"
     ]
    }
   ],
   "source": [
    "from get_emb import embedding_retriever\n",
    "import numpy as np\n",
    "from tqdm import tqdm\n",
    "import pickle\n",
    "\n",
    "## get embedding for procedure entities\n",
    "proc_ent_emb = []\n",
    "\n",
    "for idx in tqdm(range(len(proc_id2ent))):\n",
    "    ent = proc_id2ent[str(idx)]\n",
    "    embedding = embedding_retriever(term=ent)\n",
    "    embedding = np.array(embedding)\n",
    "    proc_ent_emb.append(embedding)\n",
    "\n",
    "stacked_embedding = np.vstack(proc_ent_emb)\n",
    "\n",
    "emb_pkl = f\"{file_dir}/entity_embedding.pkl\"\n",
    "\n",
    "with open(emb_pkl, \"wb\") as file:\n",
    "    pickle.dump(stacked_embedding, file)"
   ]
  },
  {
   "cell_type": "code",
   "execution_count": 6,
   "metadata": {},
   "outputs": [
    {
     "name": "stderr",
     "output_type": "stream",
     "text": [
      "100%|██████████| 2464/2464 [06:59<00:00,  5.88it/s]\n"
     ]
    }
   ],
   "source": [
    "from get_emb import embedding_retriever\n",
    "import numpy as np\n",
    "from tqdm import tqdm\n",
    "import pickle\n",
    "\n",
    "## get embedding for procedure relations\n",
    "proc_rel_emb = []\n",
    "\n",
    "for idx in tqdm(range(len(proc_id2rel))):\n",
    "    rel = proc_id2rel[str(idx)]\n",
    "    embedding = embedding_retriever(term=rel)\n",
    "    embedding = np.array(embedding)\n",
    "    proc_rel_emb.append(embedding)\n",
    "\n",
    "stacked_embedding = np.vstack(proc_rel_emb)\n",
    "\n",
    "emb_pkl = f\"{file_dir}/relation_embedding.pkl\"\n",
    "\n",
    "with open(emb_pkl, \"wb\") as file:\n",
    "    pickle.dump(stacked_embedding, file)"
   ]
  },
  {
   "cell_type": "code",
   "execution_count": null,
   "metadata": {},
   "outputs": [],
   "source": []
  },
  {
   "cell_type": "code",
   "execution_count": null,
   "metadata": {},
   "outputs": [],
   "source": []
  }
 ],
 "metadata": {
  "kernelspec": {
   "display_name": "graphcare",
   "language": "python",
   "name": "python3"
  },
  "language_info": {
   "codemirror_mode": {
    "name": "ipython",
    "version": 3
   },
   "file_extension": ".py",
   "mimetype": "text/x-python",
   "name": "python",
   "nbconvert_exporter": "python",
   "pygments_lexer": "ipython3",
   "version": "3.9.23"
  },
  "orig_nbformat": 4
 },
 "nbformat": 4,
 "nbformat_minor": 2
}
