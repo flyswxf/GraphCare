{
 "cells": [
  {
   "cell_type": "code",
   "execution_count": 1,
   "metadata": {},
   "outputs": [],
   "source": [
    "import csv\n",
    "\n",
    "ccscm_id2name = {}\n",
    "with open('../../resources/CCSCM.csv', 'r') as f:\n",
    "    lines = f.readlines()\n",
    "    for line in lines[1:]:\n",
    "        line = line.strip().split(',')\n",
    "        ccscm_id2name[line[0]] = line[1].lower()\n",
    "\n",
    "ccsproc_id2name = {}\n",
    "with open('../../resources/CCSPROC.csv', 'r') as f:\n",
    "    lines = f.readlines()\n",
    "    for line in lines[1:]:\n",
    "        line = line.strip().split(',')\n",
    "        ccsproc_id2name[line[0]] = line[1].lower()\n",
    "\n",
    "atc3_id2name = {}\n",
    "with open(\"../../resources/ATC.csv\", newline='') as csvfile:\n",
    "    reader = csv.DictReader(csvfile)\n",
    "    for row in reader:\n",
    "        if row['level'] == '3.0':\n",
    "            atc3_id2name[row['code']] = row['name'].lower()"
   ]
  },
  {
   "cell_type": "code",
   "execution_count": 2,
   "metadata": {},
   "outputs": [],
   "source": [
    "path_0 = \"../../data\"\n",
    "\n",
    "ccscm_id2emb = {}\n",
    "ccsproc_id2emb = {}\n",
    "atc3_id2emb = {}"
   ]
  },
  {
   "cell_type": "code",
   "execution_count": 3,
   "metadata": {},
   "outputs": [
    {
     "name": "stderr",
     "output_type": "stream",
     "text": [
      "  8%|▊         | 22/285 [00:01<00:22, 11.59it/s]"
     ]
    },
    {
     "name": "stderr",
     "output_type": "stream",
     "text": [
      "100%|██████████| 285/285 [00:29<00:00,  9.70it/s]\n",
      "100%|██████████| 231/231 [00:20<00:00, 11.26it/s]\n",
      "100%|██████████| 269/269 [00:28<00:00,  9.39it/s]\n"
     ]
    }
   ],
   "source": [
    "from get_emb import embedding_retriever\n",
    "import numpy as np\n",
    "from tqdm import tqdm\n",
    "import pickle\n",
    "\n",
    "for key in tqdm(ccscm_id2name.keys()):\n",
    "    emb = embedding_retriever(term=ccscm_id2name[key])\n",
    "    ccscm_id2emb[key] = emb\n",
    "\n",
    "for key in tqdm(ccsproc_id2name.keys()):\n",
    "    emb = embedding_retriever(term=ccsproc_id2name[key])\n",
    "    ccsproc_id2emb[key] = emb\n",
    "\n",
    "for key in tqdm(atc3_id2name.keys()):\n",
    "    emb = embedding_retriever(term=atc3_id2name[key])\n",
    "    atc3_id2emb[key] = emb\n",
    "\n",
    "with open(f\"{path_0}/ccscm_id2emb.pkl\", \"wb\") as f:\n",
    "    pickle.dump(ccscm_id2emb, f)\n",
    "\n",
    "with open(f\"{path_0}/ccsproc_id2emb.pkl\", \"wb\") as f:\n",
    "    pickle.dump(ccsproc_id2emb, f)\n",
    "\n",
    "with open(f\"{path_0}/atc3_id2emb.pkl\", \"wb\") as f:\n",
    "    pickle.dump(atc3_id2emb, f)"
   ]
  },
  {
   "cell_type": "code",
   "execution_count": 4,
   "metadata": {},
   "outputs": [],
   "source": [
    "def cosine_similarity(u, v):\n",
    "    \"\"\"\n",
    "    计算两个向量的余弦相似度，安全处理零向量情况\n",
    "    \"\"\"\n",
    "    norm_u = np.linalg.norm(u)\n",
    "    norm_v = np.linalg.norm(v)\n",
    "    \n",
    "    # 如果任一向量为零向量，返回0相似度\n",
    "    if norm_u == 0 or norm_v == 0:\n",
    "        return 0.0\n",
    "    \n",
    "    return np.dot(u, v) / (norm_u * norm_v)"
   ]
  },
  {
   "cell_type": "code",
   "execution_count": 5,
   "metadata": {},
   "outputs": [
    {
     "ename": "FileNotFoundError",
     "evalue": "[Errno 2] No such file or directory: '../../data/ccscm_ccsproc/clusters_th015.json'",
     "output_type": "error",
     "traceback": [
      "\u001b[0;31m---------------------------------------------------------------------------\u001b[0m",
      "\u001b[0;31mFileNotFoundError\u001b[0m                         Traceback (most recent call last)",
      "Cell \u001b[0;32mIn[5], line 17\u001b[0m\n\u001b[1;32m     14\u001b[0m \u001b[38;5;28;01mwith\u001b[39;00m \u001b[38;5;28mopen\u001b[39m(ent_emb_file, \u001b[38;5;124m\"\u001b[39m\u001b[38;5;124mrb\u001b[39m\u001b[38;5;124m\"\u001b[39m) \u001b[38;5;28;01mas\u001b[39;00m f:\n\u001b[1;32m     15\u001b[0m     ent_emb \u001b[38;5;241m=\u001b[39m pickle\u001b[38;5;241m.\u001b[39mload(f)\n\u001b[0;32m---> 17\u001b[0m \u001b[38;5;28;01mwith\u001b[39;00m \u001b[38;5;28mopen\u001b[39m(map_cluster_file, \u001b[38;5;124m\"\u001b[39m\u001b[38;5;124mr\u001b[39m\u001b[38;5;124m\"\u001b[39m) \u001b[38;5;28;01mas\u001b[39;00m f:\n\u001b[1;32m     18\u001b[0m     map_cluster \u001b[38;5;241m=\u001b[39m json\u001b[38;5;241m.\u001b[39mload(f)\n\u001b[1;32m     20\u001b[0m \u001b[38;5;28;01mwith\u001b[39;00m \u001b[38;5;28mopen\u001b[39m(map_cluster_inv, \u001b[38;5;124m\"\u001b[39m\u001b[38;5;124mr\u001b[39m\u001b[38;5;124m\"\u001b[39m) \u001b[38;5;28;01mas\u001b[39;00m f:\n",
      "File \u001b[0;32m~/anaconda3/lib/python3.13/site-packages/IPython/core/interactiveshell.py:324\u001b[0m, in \u001b[0;36m_modified_open\u001b[0;34m(file, *args, **kwargs)\u001b[0m\n\u001b[1;32m    317\u001b[0m \u001b[38;5;28;01mif\u001b[39;00m file \u001b[38;5;129;01min\u001b[39;00m {\u001b[38;5;241m0\u001b[39m, \u001b[38;5;241m1\u001b[39m, \u001b[38;5;241m2\u001b[39m}:\n\u001b[1;32m    318\u001b[0m     \u001b[38;5;28;01mraise\u001b[39;00m \u001b[38;5;167;01mValueError\u001b[39;00m(\n\u001b[1;32m    319\u001b[0m         \u001b[38;5;124mf\u001b[39m\u001b[38;5;124m\"\u001b[39m\u001b[38;5;124mIPython won\u001b[39m\u001b[38;5;124m'\u001b[39m\u001b[38;5;124mt let you open fd=\u001b[39m\u001b[38;5;132;01m{\u001b[39;00mfile\u001b[38;5;132;01m}\u001b[39;00m\u001b[38;5;124m by default \u001b[39m\u001b[38;5;124m\"\u001b[39m\n\u001b[1;32m    320\u001b[0m         \u001b[38;5;124m\"\u001b[39m\u001b[38;5;124mas it is likely to crash IPython. If you know what you are doing, \u001b[39m\u001b[38;5;124m\"\u001b[39m\n\u001b[1;32m    321\u001b[0m         \u001b[38;5;124m\"\u001b[39m\u001b[38;5;124myou can use builtins\u001b[39m\u001b[38;5;124m'\u001b[39m\u001b[38;5;124m open.\u001b[39m\u001b[38;5;124m\"\u001b[39m\n\u001b[1;32m    322\u001b[0m     )\n\u001b[0;32m--> 324\u001b[0m \u001b[38;5;28;01mreturn\u001b[39;00m io_open(file, \u001b[38;5;241m*\u001b[39margs, \u001b[38;5;241m*\u001b[39m\u001b[38;5;241m*\u001b[39mkwargs)\n",
      "\u001b[0;31mFileNotFoundError\u001b[0m: [Errno 2] No such file or directory: '../../data/ccscm_ccsproc/clusters_th015.json'"
     ]
    }
   ],
   "source": [
    "import json\n",
    "\n",
    "path_1 = \"../../data/ccscm_ccsproc\"\n",
    "path_1_ = \"../../graphs/cond_proc/CCSCM_CCSPROC\"\n",
    "\n",
    "ent2id_file = f\"{path_1_}/ent2id.json\"\n",
    "ent_emb_file = f\"{path_1_}/entity_embedding.pkl\"\n",
    "map_cluster_file = f\"{path_1}/clusters_th015.json\" \n",
    "map_cluster_inv = f\"{path_1}/clusters_inv_th015.json\"\n",
    "\n",
    "with open(ent2id_file, \"r\") as f:\n",
    "    ent2id = json.load(f)\n",
    "\n",
    "with open(ent_emb_file, \"rb\") as f:\n",
    "    ent_emb = pickle.load(f)\n",
    "\n",
    "with open(map_cluster_file, \"r\") as f:\n",
    "    map_cluster = json.load(f)\n",
    "\n",
    "with open(map_cluster_inv, \"r\") as f:\n",
    "    map_cluster_inv = json.load(f)\n"
   ]
  },
  {
   "cell_type": "code",
   "execution_count": null,
   "metadata": {},
   "outputs": [
    {
     "name": "stderr",
     "output_type": "stream",
     "text": [
      "100%|██████████| 285/285 [00:49<00:00,  5.78it/s]\n",
      "100%|██████████| 231/231 [00:39<00:00,  5.79it/s]\n"
     ]
    }
   ],
   "source": [
    "ccscm_id2clus = {}\n",
    "ccsproc_id2clus = {}\n",
    "\n",
    "for key in tqdm(ccscm_id2emb.keys()):\n",
    "    emb = ccscm_id2emb[key]\n",
    "    emb = np.array(emb)\n",
    "    max_sim = 0\n",
    "    max_id = None\n",
    "    for i in range(ent_emb.shape[0]):\n",
    "        emb_compare = ent_emb[i]\n",
    "        sim = cosine_similarity(emb, emb_compare)\n",
    "        if sim > max_sim:\n",
    "            max_sim = sim\n",
    "            max_id = i\n",
    "    \n",
    "    cluster_id = map_cluster_inv[str(max_id)]\n",
    "    ccscm_id2clus[key] = cluster_id\n",
    "\n",
    "for key in tqdm(ccsproc_id2emb.keys()):\n",
    "    emb = ccsproc_id2emb[key]\n",
    "    emb = np.array(emb)\n",
    "    max_sim = 0\n",
    "    max_id = None\n",
    "    for i in range(ent_emb.shape[0]):\n",
    "        emb_compare = ent_emb[i]\n",
    "        sim = cosine_similarity(emb, emb_compare)\n",
    "        if sim > max_sim:\n",
    "            max_sim = sim\n",
    "            max_id = i\n",
    "    \n",
    "    cluster_id = map_cluster_inv[str(max_id)]\n",
    "    ccsproc_id2clus[key] = cluster_id\n",
    "\n",
    "with open(f\"{path_1}/ccscm_id2clus.json\", \"w\") as f:\n",
    "    json.dump(ccscm_id2clus, f)\n",
    "\n",
    "with open(f\"{path_1}/ccsproc_id2clus.json\", \"w\") as f:\n",
    "    json.dump(ccsproc_id2clus, f)\n"
   ]
  },
  {
   "cell_type": "code",
   "execution_count": null,
   "metadata": {},
   "outputs": [],
   "source": [
    "path_2 = \"../../data/ccscm_ccsproc_atc3\"\n",
    "path_2_ = \"../../graphs/cond_proc_drug/CCSCM_CCSPROC_ATC3\"\n",
    "\n",
    "ent2id_file = f\"{path_2_}/ent2id.json\"\n",
    "ent_emb_file = f\"{path_2_}/entity_embedding.pkl\"\n",
    "map_cluster_file = f\"{path_2}/clusters_th015.json\" \n",
    "map_cluster_inv = f\"{path_2}/clusters_inv_th015.json\"\n",
    "\n",
    "with open(ent2id_file, \"r\") as f:\n",
    "    ent2id = json.load(f)\n",
    "\n",
    "with open(ent_emb_file, \"rb\") as f:\n",
    "    ent_emb = pickle.load(f)\n",
    "\n",
    "with open(map_cluster_file, \"r\") as f:\n",
    "    map_cluster = json.load(f)\n",
    "\n",
    "with open(map_cluster_inv, \"r\") as f:\n",
    "    map_cluster_inv = json.load(f)"
   ]
  },
  {
   "cell_type": "code",
   "execution_count": null,
   "metadata": {},
   "outputs": [
    {
     "name": "stderr",
     "output_type": "stream",
     "text": [
      "100%|██████████| 285/285 [01:51<00:00,  2.57it/s]\n",
      "100%|██████████| 231/231 [01:22<00:00,  2.78it/s]\n",
      "100%|██████████| 269/269 [01:37<00:00,  2.75it/s]\n"
     ]
    }
   ],
   "source": [
    "ccscm_id2clus = {}\n",
    "ccsproc_id2clus = {}\n",
    "atc3_id2clus = {}\n",
    "\n",
    "for key in tqdm(ccscm_id2emb.keys()):\n",
    "    emb = ccscm_id2emb[key]\n",
    "    emb = np.array(emb)\n",
    "    max_sim = 0\n",
    "    max_id = None\n",
    "    for i in range(ent_emb.shape[0]):\n",
    "        emb_compare = ent_emb[i]\n",
    "        sim = cosine_similarity(emb, emb_compare)\n",
    "        if sim > max_sim:\n",
    "            max_sim = sim\n",
    "            max_id = i\n",
    "    \n",
    "    cluster_id = map_cluster_inv[str(max_id)]\n",
    "    ccscm_id2clus[key] = cluster_id\n",
    "\n",
    "for key in tqdm(ccsproc_id2emb.keys()):\n",
    "    emb = ccsproc_id2emb[key]\n",
    "    emb = np.array(emb)\n",
    "    max_sim = 0\n",
    "    max_id = None\n",
    "    for i in range(ent_emb.shape[0]):\n",
    "        emb_compare = ent_emb[i]\n",
    "        sim = cosine_similarity(emb, emb_compare)\n",
    "        if sim > max_sim:\n",
    "            max_sim = sim\n",
    "            max_id = i\n",
    "    \n",
    "    cluster_id = map_cluster_inv[str(max_id)]\n",
    "    ccsproc_id2clus[key] = cluster_id\n",
    "\n",
    "for key in tqdm(atc3_id2emb.keys()):\n",
    "    emb = atc3_id2emb[key]\n",
    "    emb = np.array(emb)\n",
    "    max_sim = 0\n",
    "    max_id = None\n",
    "    for i in range(ent_emb.shape[0]):\n",
    "        emb_compare = ent_emb[i]\n",
    "        sim = cosine_similarity(emb, emb_compare)\n",
    "        if sim > max_sim:\n",
    "            max_sim = sim\n",
    "            max_id = i\n",
    "    \n",
    "    cluster_id = map_cluster_inv[str(max_id)]\n",
    "    atc3_id2clus[key] = cluster_id\n",
    "\n",
    "with open(f\"{path_2}/ccscm_id2clus.json\", \"w\") as f:\n",
    "    json.dump(ccscm_id2clus, f)\n",
    "\n",
    "with open(f\"{path_2}/ccsproc_id2clus.json\", \"w\") as f:\n",
    "    json.dump(ccsproc_id2clus, f)\n",
    "\n",
    "with open(f\"{path_2}/atc3_id2clus.json\", \"w\") as f:\n",
    "    json.dump(atc3_id2clus, f)"
   ]
  },
  {
   "cell_type": "code",
   "execution_count": null,
   "metadata": {},
   "outputs": [],
   "source": []
  }
 ],
 "metadata": {
  "kernelspec": {
   "display_name": "base",
   "language": "python",
   "name": "python3"
  },
  "language_info": {
   "codemirror_mode": {
    "name": "ipython",
    "version": 3
   },
   "file_extension": ".py",
   "mimetype": "text/x-python",
   "name": "python",
   "nbconvert_exporter": "python",
   "pygments_lexer": "ipython3",
   "version": "3.13.5"
  },
  "orig_nbformat": 4
 },
 "nbformat": 4,
 "nbformat_minor": 2
}
