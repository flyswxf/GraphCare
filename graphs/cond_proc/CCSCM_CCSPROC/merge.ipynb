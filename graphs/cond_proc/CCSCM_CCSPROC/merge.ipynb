{
 "cells": [
  {
   "cell_type": "code",
   "execution_count": 2,
   "metadata": {},
   "outputs": [],
   "source": [
    "import json\n",
    "\n",
    "file_dir = \"../../condition/CCSCM\"\n",
    "\n",
    "file_id2ent = f\"{file_dir}/id2ent.json\"\n",
    "file_ent2id = f\"{file_dir}/ent2id.json\"\n",
    "file_id2rel = f\"{file_dir}/id2rel.json\"\n",
    "file_rel2id = f\"{file_dir}/rel2id.json\"\n",
    "\n",
    "with open(file_id2ent, 'r') as file:\n",
    "    cond_id2ent = json.load(file)\n",
    "with open(file_ent2id, 'r') as file:\n",
    "    cond_ent2id = json.load(file)\n",
    "with open(file_id2rel, 'r') as file:\n",
    "    cond_id2rel = json.load(file)\n",
    "with open(file_rel2id, 'r') as file:\n",
    "    cond_rel2id = json.load(file)\n",
    "\n",
    "\n",
    "file_dir = \"../../procedure/CCSPROC\"\n",
    "\n",
    "file_id2ent = f\"{file_dir}/id2ent.json\"\n",
    "file_ent2id = f\"{file_dir}/ent2id.json\"\n",
    "file_id2rel = f\"{file_dir}/id2rel.json\"\n",
    "file_rel2id = f\"{file_dir}/rel2id.json\"\n",
    "\n",
    "with open(file_id2ent, 'r') as file:\n",
    "    proc_id2ent = json.load(file)\n",
    "with open(file_ent2id, 'r') as file:\n",
    "    proc_ent2id = json.load(file)\n",
    "with open(file_id2rel, 'r') as file:\n",
    "    proc_id2rel = json.load(file)\n",
    "with open(file_rel2id, 'r') as file:\n",
    "    proc_rel2id = json.load(file)\n",
    "\n",
    "\n",
    "import csv\n",
    "\n",
    "condition_mapping_file = \"../../../resources/CCSCM.csv\"\n",
    "procedure_mapping_file = \"../../../resources/CCSPROC.csv\"\n",
    "drug_file = \"../../../resources/ATC.csv\"\n",
    "\n",
    "condition_dict = {}\n",
    "with open(condition_mapping_file, newline='') as csvfile:\n",
    "    reader = csv.DictReader(csvfile)\n",
    "    for row in reader:\n",
    "        condition_dict[row['code']] = row['name'].lower()\n",
    "\n",
    "procedure_dict = {}\n",
    "with open(procedure_mapping_file, newline='') as csvfile:\n",
    "    reader = csv.DictReader(csvfile)\n",
    "    for row in reader:\n",
    "        procedure_dict[row['code']] = row['name'].lower()\n",
    "\n",
    "drug_dict = {}\n",
    "with open(drug_file, newline='') as csvfile:\n",
    "    reader = csv.DictReader(csvfile)\n",
    "    for row in reader:\n",
    "        if row['level'] == '5.0':\n",
    "            drug_dict[row['code']] = row['name'].lower()"
   ]
  },
  {
   "cell_type": "code",
   "execution_count": 3,
   "metadata": {},
   "outputs": [],
   "source": [
    "cp_id2ent = {}\n",
    "cp_id2rel = {}\n",
    "\n",
    "for key in cond_id2ent.keys():\n",
    "    cp_id2ent[key] = cond_id2ent[key]\n",
    "\n",
    "for key in proc_id2ent.keys():\n",
    "    cp_id2ent[str(int(key)+len(cond_id2ent))] = proc_id2ent[key]\n",
    "\n",
    "cp_ent2id = {value: key for key, value in cp_id2ent.items()}\n",
    "\n",
    "\n",
    "for key in cond_id2rel.keys():\n",
    "    cp_id2rel[key] = cond_id2rel[key]\n",
    "\n",
    "for key in proc_id2rel.keys():\n",
    "    cp_id2rel[str(int(key)+len(cond_id2rel))] = proc_id2rel[key]\n",
    "\n",
    "cp_rel2id = {value: key for key, value in cp_id2rel.items()}"
   ]
  },
  {
   "cell_type": "code",
   "execution_count": 4,
   "metadata": {},
   "outputs": [],
   "source": [
    "out_file_id2ent = f\"./id2ent.json\"\n",
    "out_file_ent2id = f\"./ent2id.json\"\n",
    "out_file_id2rel = f\"./id2rel.json\"\n",
    "out_file_rel2id = f\"./rel2id.json\"\n",
    "\n",
    "with open(out_file_id2ent, 'w') as file:\n",
    "    json.dump(cp_id2ent, file, indent=6)\n",
    "with open(out_file_ent2id, 'w') as file:\n",
    "    json.dump(cp_ent2id, file, indent=6)\n",
    "with open(out_file_id2rel, 'w') as file:\n",
    "    json.dump(cp_id2rel, file, indent=6)\n",
    "with open(out_file_rel2id, 'w') as file:\n",
    "    json.dump(cp_rel2id, file, indent=6)"
   ]
  },
  {
   "cell_type": "code",
   "execution_count": 5,
   "metadata": {},
   "outputs": [],
   "source": [
    "import numpy as np\n",
    "import pickle\n",
    "\n",
    "with open('../../../graphs/condition/CCSCM/entity_embedding.pkl', 'rb') as f:\n",
    "    cond_ent_emb = pickle.load(f)\n",
    "\n",
    "with open('../../../graphs/condition/CCSCM/relation_embedding.pkl', 'rb') as f:\n",
    "    cond_rel_emb = pickle.load(f)\n",
    "\n",
    "with open('../../../graphs/procedure/CCSPROC/entity_embedding.pkl', 'rb') as f:\n",
    "    proc_ent_emb = pickle.load(f)\n",
    "\n",
    "with open('../../../graphs/procedure/CCSPROC/relation_embedding.pkl', 'rb') as f:\n",
    "    proc_rel_emb = pickle.load(f)"
   ]
  },
  {
   "cell_type": "code",
   "execution_count": 6,
   "metadata": {},
   "outputs": [
    {
     "data": {
      "text/plain": [
       "((13778, 1024), (12747, 1024), (2841, 1024), (2464, 1024))"
      ]
     },
     "execution_count": 6,
     "metadata": {},
     "output_type": "execute_result"
    }
   ],
   "source": [
    "cond_ent_emb.shape, proc_ent_emb.shape, cond_rel_emb.shape, proc_rel_emb.shape"
   ]
  },
  {
   "cell_type": "code",
   "execution_count": 7,
   "metadata": {},
   "outputs": [],
   "source": [
    "cp_ent_emb = np.concatenate((cond_ent_emb, proc_ent_emb), axis=0)\n",
    "cp_rel_emb = np.concatenate((cond_rel_emb, proc_rel_emb), axis=0)"
   ]
  },
  {
   "cell_type": "code",
   "execution_count": 8,
   "metadata": {},
   "outputs": [
    {
     "data": {
      "text/plain": [
       "((26525, 1024), (5305, 1024))"
      ]
     },
     "execution_count": 8,
     "metadata": {},
     "output_type": "execute_result"
    }
   ],
   "source": [
    "cp_ent_emb.shape, cp_rel_emb.shape"
   ]
  },
  {
   "cell_type": "code",
   "execution_count": 9,
   "metadata": {},
   "outputs": [],
   "source": [
    "ent_emb_pkl = \"./entity_embedding.pkl\"\n",
    "rel_emb_pkl = \"./relation_embedding.pkl\"\n",
    "\n",
    "with open(ent_emb_pkl, \"wb\") as file:\n",
    "    pickle.dump(cp_ent_emb, file)\n",
    "\n",
    "with open(rel_emb_pkl, \"wb\") as file:\n",
    "    pickle.dump(cp_rel_emb, file)"
   ]
  },
  {
   "cell_type": "code",
   "execution_count": null,
   "metadata": {},
   "outputs": [],
   "source": []
  }
 ],
 "metadata": {
  "kernelspec": {
   "display_name": "graphcare",
   "language": "python",
   "name": "python3"
  },
  "language_info": {
   "codemirror_mode": {
    "name": "ipython",
    "version": 3
   },
   "file_extension": ".py",
   "mimetype": "text/x-python",
   "name": "python",
   "nbconvert_exporter": "python",
   "pygments_lexer": "ipython3",
   "version": "3.8.20"
  },
  "orig_nbformat": 4
 },
 "nbformat": 4,
 "nbformat_minor": 2
}
